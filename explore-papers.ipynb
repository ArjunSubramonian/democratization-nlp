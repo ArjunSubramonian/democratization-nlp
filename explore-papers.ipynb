{
 "cells": [
  {
   "cell_type": "code",
   "execution_count": 1,
   "id": "ac6a7edf",
   "metadata": {},
   "outputs": [],
   "source": [
    "with open('./s2orc_full_text_nlp_ml.txt') as f:\n",
    "    lines = f.read().splitlines()"
   ]
  },
  {
   "cell_type": "code",
   "execution_count": null,
   "id": "30ad22af",
   "metadata": {},
   "outputs": [],
   "source": [
    "# from urllib.request import urlretrieve\n",
    "# import gzip, shutil\n",
    "\n",
    "# for fname in lines:\n",
    "#     if not fname.startswith('https:/'):\n",
    "#         fname = 'https://ai2-s2-research-public.s3-us-west-2.amazonaws.com/lucas/s2orc' + fname.split('s2orc')[1]\n",
    "        \n",
    "#     path, _ = urlretrieve(fname, './raw-data/' + fname.split('/')[-1])\n",
    "\n",
    "#     with gzip.open(path, 'r') as f_in, open('.'.join(path.split('.')[:-1]).replace('raw-data', 'processed-data'), 'wb') as f_out:\n",
    "#         shutil.copyfileobj(f_in, f_out)"
   ]
  },
  {
   "cell_type": "code",
   "execution_count": 6,
   "id": "3695a3a0",
   "metadata": {},
   "outputs": [
    {
     "name": "stdout",
     "output_type": "stream",
     "text": [
      "./raw-data/20231128_184823_00036_gkjv4_0d19e529-1555-4a0f-bb26-a21f0b765501\n",
      "./raw-data/20231128_184823_00036_gkjv4_0f50ccdf-a650-46be-8dd3-b99d33ba32c5\n",
      "./raw-data/20231128_184823_00036_gkjv4_8ab6f1e0-cde9-49a1-9a38-e3ee6a07ba25\n",
      "./raw-data/20231128_184823_00036_gkjv4_8d5e36e3-7e73-4774-82cb-f5828c3d1ed1\n",
      "./raw-data/20231128_184823_00036_gkjv4_8fbe43f2-9c7a-429d-ab0c-5cdd32aa32b1\n",
      "./raw-data/20231128_184823_00036_gkjv4_9c456f81-5220-461f-aa86-386688afffef\n",
      "./raw-data/20231128_184823_00036_gkjv4_9f7d18f9-b15e-4ca2-864e-9cccf4d9dd0f\n",
      "./raw-data/20231128_184823_00036_gkjv4_22b00d93-6b76-4e60-8c48-d98bf90aade4\n",
      "./raw-data/20231128_184823_00036_gkjv4_52c3d353-a796-4199-9947-367c32ee2ed4\n",
      "./raw-data/20231128_184823_00036_gkjv4_58b645c9-3db1-4720-b284-223b637e71c7\n",
      "./raw-data/20231128_184823_00036_gkjv4_91cfc006-6aca-4719-911f-f2de4acc79ad\n",
      "./raw-data/20231128_184823_00036_gkjv4_244b8f4f-8d49-4631-bb23-71176d52a7cf\n",
      "./raw-data/20231128_184823_00036_gkjv4_408ec08a-6bc4-4f06-b0f0-d8ffdee0819f\n",
      "./raw-data/20231128_184823_00036_gkjv4_496d779e-ff38-4c65-8758-76ff62fbc65e\n",
      "./raw-data/20231128_184823_00036_gkjv4_917f1a3c-0757-4dcf-a23c-0e770744877f\n",
      "./raw-data/20231128_184823_00036_gkjv4_923ccb64-d2b6-42ba-932d-d87592719ad6\n",
      "./raw-data/20231128_184823_00036_gkjv4_46141b4b-a67b-4c77-99a6-5a24c7398b33\n",
      "./raw-data/20231128_184823_00036_gkjv4_631492ee-3fa7-422d-808b-d87524f74a3a\n",
      "./raw-data/20231128_184823_00036_gkjv4_4785113d-a83b-411e-9c6a-4fc582ca0876\n",
      "./raw-data/20231128_184823_00036_gkjv4_81562976-965a-478c-89e9-4c7eff243e94\n",
      "./raw-data/20231128_184823_00036_gkjv4_a5aafb15-c3de-4ccb-805e-19bbceef0aca\n",
      "./raw-data/20231128_184823_00036_gkjv4_a14dbf3f-1ade-4592-b82d-407dcd131637\n",
      "./raw-data/20231128_184823_00036_gkjv4_a94f630c-ba31-4d56-8332-623eb5d27940\n",
      "./raw-data/20231128_184823_00036_gkjv4_b24eb275-5fc8-4ef0-a267-16377e7d139f\n",
      "./raw-data/20231128_184823_00036_gkjv4_b68db5ad-6f4a-47cc-aa84-7e1d240cb262\n",
      "./raw-data/20231128_184823_00036_gkjv4_bd12327e-9550-40bb-a32c-a3703c6fb527\n",
      "./raw-data/20231128_184823_00036_gkjv4_c2be9903-860f-4740-9fb8-f78761f79324\n",
      "./raw-data/20231128_184823_00036_gkjv4_d60ca73b-c196-4027-9ed5-925358f4b52f\n",
      "./raw-data/20231128_184823_00036_gkjv4_e4b6f69c-921a-44dd-bcd1-e369668bbaed\n",
      "./raw-data/20231128_184823_00036_gkjv4_fc0d8a0c-e2cc-4bde-b066-2f550550d91f\n"
     ]
    }
   ],
   "source": [
    "from urllib.request import urlretrieve\n",
    "import pandas as pd\n",
    "import os\n",
    "\n",
    "path = \"raw-data\"\n",
    "does_exist = os.path.exists(path)\n",
    "if not does_exist:\n",
    "    os.makedirs(path)\n",
    "\n",
    "    for fname in lines:\n",
    "        if not fname.startswith('https:/'):\n",
    "            fname = 'https://ai2-s2-research-public.s3-us-west-2.amazonaws.com/lucas/s2orc' + fname.split('s2orc')[1]\n",
    "\n",
    "        path, _ = urlretrieve(fname, './raw-data/' + fname.split('/')[-1])\n",
    "\n",
    "        pd.read_parquet(path)\n",
    "        print(path)"
   ]
  },
  {
   "cell_type": "code",
   "execution_count": 61,
   "id": "42ba8f30",
   "metadata": {},
   "outputs": [
    {
     "name": "stderr",
     "output_type": "stream",
     "text": [
      "[nltk_data] Downloading package wordnet to /Users/arjuns/nltk_data...\n",
      "[nltk_data]   Package wordnet is already up-to-date!\n",
      "[nltk_data] Downloading package omw-1.4 to /Users/arjuns/nltk_data...\n",
      "[nltk_data] Downloading package punkt to /Users/arjuns/nltk_data...\n",
      "[nltk_data]   Unzipping tokenizers/punkt.zip.\n",
      "[nltk_data] Downloading package averaged_perceptron_tagger to\n",
      "[nltk_data]     /Users/arjuns/nltk_data...\n",
      "[nltk_data]   Package averaged_perceptron_tagger is already up-to-\n",
      "[nltk_data]       date!\n"
     ]
    }
   ],
   "source": [
    "import nltk\n",
    "from nltk.stem import WordNetLemmatizer\n",
    "nltk.download(\"wordnet\")\n",
    "nltk.download(\"omw-1.4\")\n",
    "nltk.download('punkt')\n",
    "nltk.download('averaged_perceptron_tagger')\n",
    "from nltk.tokenize import word_tokenize\n",
    "from nltk import pos_tag"
   ]
  },
  {
   "cell_type": "code",
   "execution_count": 62,
   "id": "eed0e718",
   "metadata": {},
   "outputs": [],
   "source": [
    "def process_text(text):\n",
    "    wnpos = lambda e: ('a' if e[0].lower() == 'j' else e[0].lower()) if e[0].lower() in ['n', 'r', 'v'] else 'n'\n",
    "    wnl = WordNetLemmatizer()\n",
    "\n",
    "    tokens = word_tokenize(text)\n",
    "    tokens_pos = pos_tag(tokens)\n",
    "    lemmas = []\n",
    "    for t, pos in tokens_pos:\n",
    "        new_pos = wnpos(pos)\n",
    "        lemmas.append(wnl.lemmatize(t, pos=new_pos))\n",
    "    return lemmas"
   ]
  },
  {
   "cell_type": "code",
   "execution_count": 72,
   "id": "2100e534",
   "metadata": {},
   "outputs": [],
   "source": [
    "import glob\n",
    "\n",
    "search_terms = ['democra']\n",
    "\n",
    "filtered_papers = set()\n",
    "matches = set()\n",
    "for filepath in glob.iglob('raw-data/*'):\n",
    "    df = pd.read_parquet('./raw-data/' + fname)\n",
    "    \n",
    "    for index, row in df.iterrows():\n",
    "        for target in [row['metadata']['title'], row['metadata']['abstract'], row['content']['grobid']['contents']]:\n",
    "            if target:\n",
    "                target = target.lower()\n",
    "            else:\n",
    "                continue\n",
    "            \n",
    "            for s in search_terms:\n",
    "                if s in target.lower():\n",
    "                    target = target.lower()\n",
    "                    filtered_papers.add(row['id'])\n",
    "                    matches.update([m for m in target.split('.') if search_term in m])"
   ]
  },
  {
   "cell_type": "code",
   "execution_count": 76,
   "id": "8b7b00f5",
   "metadata": {},
   "outputs": [
    {
     "data": {
      "text/plain": [
       "{'\\n\\na simple proof that random matrices are democratic',\n",
       " '\\n\\nthe sentimental citizen: emotion in democratic politics',\n",
       " '\\n\\ntriangulation embedding and democratic aggregation for image search',\n",
       " ' \"decisions by republican incumbent peter fitzgerald and his democratic predecessor carol moseley braun to not participate in the election resulted in wide-open democratic and republican primary contests involving fifteen candidates',\n",
       " ' 2, 3\\n\\ndemocratic diffusion aggregation for image retrieval',\n",
       " \" 5 one of founders of democratic republic of vietnam (north vietnam) and vietnam workers' party\",\n",
       " ' a simple proof that random matrices are democratic',\n",
       " \" conflicting evidence comes, however, from the fact that fvd (forum voor democratie, 'forum for democracy') is mentioned more often in the corpus than one would expected based on its relative presence in parliament, even though this party only joined the elections for the first time in 2017\",\n",
       " \" dans cet article, nous presentons un outil, scienquest, developpe afin de democratiser l'acces aux corpus d'ecrits scientifiques, francais et anglais, du projet scientext\",\n",
       " ' democratic diffusion aggregation for image retrieval',\n",
       " ' drinan, former democratic us congressman, \"gun control: the good outweighs the evil\", 1976 -\"these graphic examples of individual instances of ',\n",
       " ' for deliberative democratic theory and argumentation theory these three variables are relevant and affect the capacity of deliberation to achieve its purpose',\n",
       " ' fuck the ignorant assholes from america, uk, and all other countries who try and soil the wonderful ties between all democratic nations',\n",
       " \" furthermore, there are two profiles who belong to the italian democratic party's entourage (patriziaprestip and flucisano)\",\n",
       " ' his speech was well received and elevated his status within the democratic party',\n",
       " ' ii) and iii) are relevant aspects of deliberation genre from the perspective of deliberative democratic theory (caluwaerts and deschouwer, 2014)',\n",
       " ' in july 2004, obama delivered the keynote address at the 2004 democratic national convention, seen by 9',\n",
       " ' in the march 2004 primary election, barack obama won in an unexpected landslidewhich overnight made him a rising star within the national democratic party, started speculation about a presidential future, and led to the reissue of his memoir, dreams from my father',\n",
       " \" lieberman, who was defeated by the political upstart ned lamont in connecticut's democratic primary earlier this month\",\n",
       " \" oleksy after a meeting of \\nrepresentatives of polish government coalition, the polish \\npeople's party and the democratic left alliance\",\n",
       " ' on the contrary, being open-source software, these methods can now be used by a larger audience, which contributes towards the democratization of classification algorithms',\n",
       " \" our conjecture for the high comment polarity is the great success in the then democratic candidate obama's fund raising attempts during the presidential campaign\",\n",
       " ' reddit allows its users to upvote and downvote posts, which resolves in a democratic procedure to give topics that deserve more attention precedence over topics considered less important',\n",
       " ' the institutional point or shared purpose of political deliberation is \"preserving the democratic political culture by means of deliberation\" (van eemeren, 2013, p',\n",
       " ' the prime minister matteo renzi, leader of the italian democratic party, has indeed shown a great ability in exploiting social media effectively, managing to shape the public discourse on the basis of the characteristics and constraints imposed by such platforms',\n",
       " \" the pvv (partij voor de vrijheid, 'freedom party') drops two positions to the benefit of cda (christen-democratisch appèl, 'christian democrats') and d'66 (democraten 66, 'democrats 66') in factcorp compared to its relative presence in the house\",\n",
       " ' the sentimental citizen: emo- tion in democratic politics',\n",
       " ' there can be no transitional period for complying with democratic rules ',\n",
       " ' there can be no transitional period in the field of democratic rules ',\n",
       " ' these frameworks have enabled the democratization of machine learning research by providing extensive collections of high level primitives to support common use cases',\n",
       " ' third, when we use oregon for testing, we observe there is a higher drop in the performance of models, compared to using indiana for testing; one potential reason is that wisconsin and indiana tend to be republican states, while or has been a democratic one',\n",
       " ' to democratize research in visual rl, we additionally propose to compare the agents in terms of wall-clock training time given the same single gpu hardware',\n",
       " ' triangulation embedding and democratic aggregation for image search',\n",
       " ' was \\ntrigger root : was syntactic-type : ver b \\n\\nslot filler: \"member of the democratic socialist party\" \\n\\n\\n\\ntable 2 :\\n2tst3 and tst4 score reports from the official umass/muc-4 test run s\\n\\ntable 3 :\\n3the effect of spurious templates lost to incorrect incident-types\\n\\ncorpus-based acquisition of relative pronoun disambiguation heuristics',\n",
       " ' we hope that our algorithm will help to inspire and democratize further research in visual rl',\n",
       " ' we hope this work will provide a starting point for further studies examining the impact of policy decisions on individuals and groups, an important step towards making the democratic process more transparent',\n",
       " \" we notice that the relation (joe biden, was nominated, vice president) is highly predictive of the sequence, ''biden was selected to be democratic presidential nominee barack obama's vice presidential running mate''\",\n",
       " ' we will discuss it with the democratic alliance',\n",
       " ', christian democratic union)',\n",
       " ', modeling gender bias in texts and debiasing), identifying strategies that undermine the democratic process (e',\n",
       " '38 \\nromanian democratic party -socialist party \\n61',\n",
       " '42 \\nbulgarian socialist party -union democratic forces \\n61',\n",
       " '64 \\n\\ntable 1 : overall scores under all templates for the four umass/muc-4 test run s \\n\\n\\n\\n\\nsentence:(gilda flores was an active member of the democratic socialist party of guatemala >c o whose secretary_general mario solorzano reported salvadoran paramilitary groups ar e carrying_out actions in this country >pe ) name: %victim-active-object-verb-was% time limit: 1 0 variable slots :id: dev-muc3-0036 \\n\\ntrigger',\n",
       " '999 i need all the help i can get , said [chet culver] , the democratic secretary of state in [iowa] and a likely contender for governor in 2006 ',\n",
       " 'category \\n\\nname \\ndistribution \\nenglish \\nperson/politician \\nbill cinton -tony blair \\n1900+1900=3800 \\nperson/politician \\nbill clinton -tony blair -ehud barak \\n1900+1900+1900=5700 \\norganization \\nibm -microsoft \\n2406+3401=5807 \\nlocation/country \\nmexico -uganda \\n1256+1256=2512 \\nlocation/country&state \\nmexico -india -california -peru \\n1500+1500+1500+1500=6000 \\nspanish \\nperson/politician \\nyaser arafat -bill clinton \\n1004+2340=3344 \\nperson/politician \\njuan pablo ii -boris yeltsin \\n1447+1450=2897 \\norganization \\notan (nato) -ezln \\n1093+1093=2186 \\nlocation/city \\nnew york -washington \\n1517+2418=3935 \\nlocation/city&country \\nnew york -brasil -washington \\n1517+1748+2418=5863 \\nromanian \\nperson/politician \\ntraian basescu -adrian nastase \\n1804+1932=3736 \\nperson/politician \\ntraian basescu -ion illiescu -adrian nastase \\n1948+1966+2301=6215 \\norganization \\nromanian democratic party -socialist party \\n2037+3264=5301 \\nlocation/city \\nbrasov -bucarest \\n2310+2559=4869 \\nlocation/country \\nfrance -usa -romania \\n1370+2396+3890=7656 \\nbulgarian \\nperson/politician \\npetar stoyanov -ivan kostov -georgi parvanov \\n318+524+811=1653 \\nperson/politician \\nnadejda mihaylova -nikolay vasilev -stoyan stoyanov \\n645+849+976=2470 \\norganization \\nbulgarian socialist party -union democratic forces \\n2921+4680=7601 \\nlocation/country \\nfrance -germany -russia \\n1726+2095+2645=6466 \\nlocation/city \\nvarna -bulgaria \\n1240+1261=2501 \\n\\nname \\nbaseline pedersen \\nlda \\n∆ b \\n∆ p \\nenglish \\nbill cinton -tony blair \\n50',\n",
       " 'the advances in language models and their publication have democratised advanced nlp'}"
      ]
     },
     "execution_count": 76,
     "metadata": {},
     "output_type": "execute_result"
    }
   ],
   "source": [
    "matches"
   ]
  },
  {
   "cell_type": "code",
   "execution_count": 75,
   "id": "7fa21204",
   "metadata": {},
   "outputs": [
    {
     "data": {
      "text/plain": [
       "{786898,\n",
       " 1681159,\n",
       " 1922162,\n",
       " 2157721,\n",
       " 2161699,\n",
       " 2400465,\n",
       " 4981807,\n",
       " 5787657,\n",
       " 5863130,\n",
       " 5883983,\n",
       " 5926278,\n",
       " 6080002,\n",
       " 6655108,\n",
       " 7033795,\n",
       " 7377033,\n",
       " 7760176,\n",
       " 8803932,\n",
       " 9517956,\n",
       " 9521532,\n",
       " 9648838,\n",
       " 9985491,\n",
       " 12115558,\n",
       " 13526270,\n",
       " 14481380,\n",
       " 14760845,\n",
       " 15183075,\n",
       " 18043676,\n",
       " 35296395,\n",
       " 37729100,\n",
       " 39834843,\n",
       " 46918993,\n",
       " 52828932,\n",
       " 118685920,\n",
       " 201058596,\n",
       " 202788575,\n",
       " 218973739,\n",
       " 218974006,\n",
       " 220845848,\n",
       " 221266725,\n",
       " 222378456,\n",
       " 226262314,\n",
       " 227208811,\n",
       " 227230376,\n",
       " 231719644,\n",
       " 233365314,\n",
       " 236134152,\n",
       " 236170995,\n",
       " 236477825,\n",
       " 236478098,\n",
       " 237420654,\n",
       " 239885728,\n",
       " 244464112,\n",
       " 246240585,\n",
       " 246430305,\n",
       " 247628243,\n",
       " 248780052,\n",
       " 250089371,\n",
       " 252624651,\n",
       " 252819068,\n",
       " 252819419,\n",
       " 257219158,\n",
       " 258378353,\n",
       " 259274942,\n",
       " 263887721,\n",
       " 265068259}"
      ]
     },
     "execution_count": 75,
     "metadata": {},
     "output_type": "execute_result"
    }
   ],
   "source": [
    "filtered_papers"
   ]
  },
  {
   "cell_type": "code",
   "execution_count": null,
   "id": "5e280c8f",
   "metadata": {},
   "outputs": [],
   "source": []
  }
 ],
 "metadata": {
  "kernelspec": {
   "display_name": "Python 3 (ipykernel)",
   "language": "python",
   "name": "python3"
  },
  "language_info": {
   "codemirror_mode": {
    "name": "ipython",
    "version": 3
   },
   "file_extension": ".py",
   "mimetype": "text/x-python",
   "name": "python",
   "nbconvert_exporter": "python",
   "pygments_lexer": "ipython3",
   "version": "3.9.15"
  }
 },
 "nbformat": 4,
 "nbformat_minor": 5
}
